{
 "cells": [
  {
   "cell_type": "code",
   "execution_count": 1,
   "metadata": {},
   "outputs": [],
   "source": [
    "import random"
   ]
  },
  {
   "cell_type": "markdown",
   "metadata": {},
   "source": [
    "### Trong project này, chúng ta sẽ làm 1 trò chơi nhỏ mang tên đoán số. Cụ thể, Máy tính sẽ chọn random 1 số từ 1 đến 10. \n",
    "### Chúng ta sẽ đoán máy tính chọn số bao nhiêu?\n",
    "#### - Nếu số chúng ta đoán thấp hơn máy tính thì in ra \"your guess is too low\"\n",
    "#### - Nếu số chúng ta đoán cao hơn máy tính thì in ra \"your guess is too high\"\n",
    "#### - Nếu chúng ta đoán đúng số thì in ra \"you got the right number after\" xx \"tries\" trong đó xx là số lần đoán.\n",
    "#### - Trường hợp 5 lần đoán sai thì sẽ dừng trò chơi và in ra \"Gameover!!! The number was yy\" trong đó yy là số mà máy tính chọn\n",
    "\n",
    "#### Những kiến thức cover trong project này: input(), print(), while loop, if else, break."
   ]
  },
  {
   "cell_type": "code",
   "execution_count": 2,
   "metadata": {},
   "outputs": [
    {
     "name": "stdout",
     "output_type": "stream",
     "text": [
      "Nhập tên của bạn:d\n",
      "Hi, chào mừng d đến với Guessing game!\n"
     ]
    }
   ],
   "source": [
    "# generate random number\n",
    "# ask player name\n",
    "# Say hi and welcome player to the guessing game\n",
    "num_ran = random.randint(1,10)\n",
    "name = input(\"Nhập tên của bạn:\")\n",
    "print(\"Hi, chào mừng\", name, \"đến với Guessing game!\")\n"
   ]
  },
  {
   "cell_type": "code",
   "execution_count": 3,
   "metadata": {},
   "outputs": [
    {
     "name": "stdout",
     "output_type": "stream",
     "text": [
      "Nhập số của bạn từ 1 đến 10:3\n",
      "Bạn đoán số quá thấp\n",
      "Nhập số của bạn từ 1 đến 10:5\n",
      "Bạn đoán số quá thấp\n",
      "Nhập số của bạn từ 1 đến 10:7\n",
      "Bạn đoán số quá thấp\n",
      "Nhập số của bạn từ 1 đến 10:9\n",
      "Bạn đoán số quá cao\n",
      "Nhập số của bạn từ 1 đến 10:8\n",
      "Bạn đã đoán đúng sau: 5 lần thử\n",
      "Gameover!! The number was: 8\n"
     ]
    }
   ],
   "source": [
    "# develop while loop\n",
    "# guess = computer number        \n",
    "# guess times > 5    \n",
    "guess = 0\n",
    "while True:\n",
    "    nhap = int(input(\"Nhập số của bạn từ 1 đến 10:\"))\n",
    "    if nhap == num_ran :\n",
    "        print(\"Bạn đã đoán đúng sau:\", guess + 1, \"lần thử\")\n",
    "        break\n",
    "    elif nhap < num_ran :\n",
    "        print(\"Bạn đoán số quá thấp\")\n",
    "        guess = guess + 1\n",
    "    elif nhap > num_ran :\n",
    "        print(\"Bạn đoán số quá cao\")\n",
    "        guess = guess + 1\n",
    "        \n",
    "    if guess > 5 :\n",
    "        break\n",
    "        \n",
    "print(\"Gameover!! The number was:\", num_ran)"
   ]
  },
  {
   "cell_type": "code",
   "execution_count": null,
   "metadata": {},
   "outputs": [],
   "source": []
  }
 ],
 "metadata": {
  "kernelspec": {
   "display_name": "Python 3 (ipykernel)",
   "language": "python",
   "name": "python3"
  },
  "language_info": {
   "codemirror_mode": {
    "name": "ipython",
    "version": 3
   },
   "file_extension": ".py",
   "mimetype": "text/x-python",
   "name": "python",
   "nbconvert_exporter": "python",
   "pygments_lexer": "ipython3",
   "version": "3.9.7"
  }
 },
 "nbformat": 4,
 "nbformat_minor": 2
}
