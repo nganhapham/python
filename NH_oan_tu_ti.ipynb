{
 "cells": [
  {
   "cell_type": "markdown",
   "metadata": {},
   "source": [
    "#### Trong project này chúng ta sẽ mô phỏng lại trò chơi dân gian oẳn tù tì.\n",
    "#### Cụ thể, chúng ta sẽ oẳn tù tì với máy. Máy sẽ chọn random búa, kéo, hoặc lá trong mỗi lần oẳn tù tì.\n",
    "#### Chúng ta sẽ chọn ra búa, kéo hoặc lá sau đó in ra kết quả. Trường hợp người chơi nhập sai, yêu cầu người chơi nhập lại theo đúng chính tả theo 3 sự lựa chọn búa, kéo, hoặc lá.\n",
    "#### Lưu ý, sau mỗi lượt chơi, máy sẽ random chọn lại búa kéo hoặc lá.\n",
    "\n",
    "#### Các kiến thức cover trong mini project này: Array, random, while loop, if else."
   ]
  },
  {
   "cell_type": "code",
   "execution_count": null,
   "metadata": {},
   "outputs": [
    {
     "name": "stdout",
     "output_type": "stream",
     "text": [
      "Nhập búa/kéo/lá: búa\n",
      "máy chọn:kéo\n",
      "Thắng\n",
      "Nhập búa/kéo/lá: lá\n",
      "máy chọn:búa\n",
      "Thắng\n",
      "Nhập búa/kéo/lá: hoa\n",
      "Nhập lại đúng chính tả búa/kéo/lá: lá\n",
      "máy chọn:lá\n",
      "Hòa\n"
     ]
    }
   ],
   "source": [
    "# tạo array búa, kéo, lá\n",
    "# máy chọn random\n",
    "# tạo vòng lặp while để chạy chương trình\n",
    "import random\n",
    "bkl = [\"búa\", \"kéo\", \"lá\"]\n",
    "while True:\n",
    "    nhap = input(\"Nhập búa/kéo/lá: \")\n",
    "    if nhap not in bkl:\n",
    "        nhap = input(\"Nhập lại đúng chính tả búa/kéo/lá: \")\n",
    "        \n",
    "    ran_number = random.randint(0,2) \n",
    "    computer_pick = bkl[ran_number]\n",
    "    print(\"Máy chọn:\" + computer_pick)\n",
    "    if nhap == computer_pick:\n",
    "        print(\"Hòa\")\n",
    "    elif nhap == \"búa\":\n",
    "        if computer_pick == \"kéo\":\n",
    "            print(\"Thắng\")\n",
    "        else:\n",
    "            print(\"Thua\")\n",
    "    elif nhap == \"lá\":\n",
    "        if computer_pick == \"búa\":\n",
    "            print(\"Thắng\")\n",
    "        else:\n",
    "            print(\"Thua\")\n",
    "    elif nhap == \"kéo\":\n",
    "        if computer_pick == \"lá\":\n",
    "            print(\"Thắng\")\n",
    "        else:\n",
    "            print(\"Thua\")\n",
    "        \n"
   ]
  },
  {
   "cell_type": "code",
   "execution_count": null,
   "metadata": {},
   "outputs": [],
   "source": []
  }
 ],
 "metadata": {
  "kernelspec": {
   "display_name": "Python 3 (ipykernel)",
   "language": "python",
   "name": "python3"
  },
  "language_info": {
   "codemirror_mode": {
    "name": "ipython",
    "version": 3
   },
   "file_extension": ".py",
   "mimetype": "text/x-python",
   "name": "python",
   "nbconvert_exporter": "python",
   "pygments_lexer": "ipython3",
   "version": "3.9.7"
  }
 },
 "nbformat": 4,
 "nbformat_minor": 2
}
